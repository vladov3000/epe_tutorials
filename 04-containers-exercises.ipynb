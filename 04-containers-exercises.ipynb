{
 "cells": [
  {
   "cell_type": "markdown",
   "metadata": {},
   "source": [
    "# Exercise 1\n",
    "\n",
    "1. Calculate the mean of the numbers 2, 3, and 10."
   ]
  },
  {
   "cell_type": "code",
   "execution_count": 5,
   "metadata": {},
   "outputs": [
    {
     "data": {
      "text/plain": [
       "5.0"
      ]
     },
     "execution_count": 5,
     "metadata": {},
     "output_type": "execute_result"
    }
   ],
   "source": [
    "  a=[2,3,10]\n",
    "sum(a)/len(a)"
   ]
  },
  {
   "cell_type": "markdown",
   "metadata": {},
   "source": [
    "# Exercise 2\n",
    "\n",
    "1 - Make a list with 5 things in it."
   ]
  },
  {
   "cell_type": "code",
   "execution_count": 7,
   "metadata": {},
   "outputs": [
    {
     "data": {
      "text/plain": [
       "5"
      ]
     },
     "execution_count": 7,
     "metadata": {},
     "output_type": "execute_result"
    }
   ],
   "source": [
    " a=[i for i in range(0,5)]\n",
    "len(a)"
   ]
  },
  {
   "cell_type": "markdown",
   "metadata": {},
   "source": [
    "2 - Add two more things."
   ]
  },
  {
   "cell_type": "code",
   "execution_count": 9,
   "metadata": {},
   "outputs": [
    {
     "data": {
      "text/plain": [
       "[0, 1, 2, 3, 4, 0, 0]"
      ]
     },
     "execution_count": 9,
     "metadata": {},
     "output_type": "execute_result"
    }
   ],
   "source": [
    "a.extend([0,0])\n",
    "a"
   ]
  },
  {
   "cell_type": "markdown",
   "metadata": {},
   "source": [
    "# Exercise 2\n",
    "\n",
    "1. Make a dictionary whose keys are the strings \"zero\" through \"nine\" and whose values are ints 0 through 9."
   ]
  },
  {
   "cell_type": "code",
   "execution_count": 10,
   "metadata": {},
   "outputs": [
    {
     "data": {
      "text/plain": [
       "{'zero': 0,\n",
       " 'one': 1,\n",
       " 'two': 2,\n",
       " 'three': 3,\n",
       " 'four': 4,\n",
       " 'five': 5,\n",
       " 'six': 6,\n",
       " 'seven': 7,\n",
       " 'eight': 8,\n",
       " 'nine': 9}"
      ]
     },
     "execution_count": 10,
     "metadata": {},
     "output_type": "execute_result"
    }
   ],
   "source": [
    "digits = {}\n",
    "\n",
    "#  Your code goes here\n",
    "digits[\"zero\"]=0\n",
    "digits[\"one\"]=1\n",
    "digits[\"two\"]=2\n",
    "digits[\"three\"]=3\n",
    "digits[\"four\"]=4\n",
    "digits[\"five\"]=5\n",
    "digits[\"six\"]=6\n",
    "digits[\"seven\"]=7\n",
    "digits[\"eight\"]=8\n",
    "digits[\"nine\"]=9\n",
    "digits"
   ]
  },
  {
   "cell_type": "markdown",
   "metadata": {},
   "source": [
    "# Exercise 3\n",
    "\n",
    "1. Make a dictionary and experiment using different types as keys. Can containers be keys?"
   ]
  },
  {
   "cell_type": "code",
   "execution_count": 14,
   "metadata": {},
   "outputs": [
    {
     "data": {
      "text/plain": [
       "{(0, 0): 0, '0': 0, 0: 0}"
      ]
     },
     "execution_count": 14,
     "metadata": {},
     "output_type": "execute_result"
    }
   ],
   "source": [
    "d={}\n",
    "d[(0,0)]=0\n",
    "d[\"0\"]=0\n",
    "d[0]=0\n",
    "#d[[0]]=0 error\n",
    "#d[{\"0\":0}]=0 error\n",
    "#some container can be keys (tuples), other cannot (arrays, dictionaries, sets)\n",
    "d"
   ]
  },
  {
   "cell_type": "markdown",
   "metadata": {},
   "source": [
    "# Exercises 4\n",
    "\n",
    "1. Write an if statement that prints whether x is even or odd"
   ]
  },
  {
   "cell_type": "code",
   "execution_count": 18,
   "metadata": {},
   "outputs": [
    {
     "name": "stdout",
     "output_type": "stream",
     "text": [
      "odd\n",
      "even\n",
      "even\n",
      "odd\n",
      "odd\n"
     ]
    }
   ],
   "source": [
    "x = [-1,0,2,3,0.5]\n",
    "for i in x:\n",
    "    if i%2==0:\n",
    "        print(\"even\")\n",
    "    else:\n",
    "        print(\"odd\")"
   ]
  },
  {
   "cell_type": "markdown",
   "metadata": {},
   "source": [
    "# Exercises 5\n",
    "\n",
    "1. Using a loop, calculate the factorial of 42 (the product of all integers up to and including 42)."
   ]
  },
  {
   "cell_type": "code",
   "execution_count": 19,
   "metadata": {},
   "outputs": [
    {
     "data": {
      "text/plain": [
       "1405006117752879898543142606244511569936384000000000"
      ]
     },
     "execution_count": 19,
     "metadata": {},
     "output_type": "execute_result"
    }
   ],
   "source": [
    "n=1\n",
    "for i in range(2,43):\n",
    "    n*=i\n",
    "n"
   ]
  },
  {
   "cell_type": "markdown",
   "metadata": {},
   "source": [
    "# Exercises 6\n",
    "\n",
    "1. Create a function that returns the factorial of a given number."
   ]
  },
  {
   "cell_type": "code",
   "execution_count": 22,
   "metadata": {},
   "outputs": [
    {
     "data": {
      "text/plain": [
       "1405006117752879898543142606244511569936384000000000"
      ]
     },
     "execution_count": 22,
     "metadata": {},
     "output_type": "execute_result"
    }
   ],
   "source": [
    "given=42\n",
    "n=1\n",
    "for i in range(2,given+1):\n",
    "    n*=i\n",
    "n"
   ]
  },
  {
   "cell_type": "markdown",
   "metadata": {},
   "source": [
    "# Exercise 7\n",
    "\n",
    "7A. Read the file 'big_animals.txt' and print each line and the length of each line."
   ]
  },
  {
   "cell_type": "code",
   "execution_count": 35,
   "metadata": {},
   "outputs": [
    {
     "name": "stdout",
     "output_type": "stream",
     "text": [
      "length: 30 line: 2011-04-22 10:30 Wolverine 10\n",
      "length: 26 line: 2011-04-22 15:30 Moose 37\n",
      "length: 28 line: 2011-04-23 12:16 Grizzly 25\n",
      "length: 27 line: 2011-04-23 12:32 Grizzly 2\n",
      "length: 27 line: 2011-04-24 22:19 Muskox 16\n",
      "length: 27 line: 2011-04-25 10:32 Muskox 11\n",
      "length: 29 line: 2011-04-25 19:53 Wolverine 1\n",
      "length: 30 line: 2011-04-25 08:10 Wolverine 14\n",
      "length: 24 line: 2011-04-25 13:38 Wolf 7\n",
      "length: 24 line: 2011-04-26 22:28 Elk 22\n",
      "length: 25 line: 2011-04-27 10:04 Moose 1\n",
      "length: 27 line: 2011-04-28 22:18 Muskox 22\n",
      "length: 24 line: 2011-04-28 14:15 Elk 39\n",
      "length: 28 line: 2011-04-28 02:23 Grizzly 27\n",
      "length: 29 line: 2011-04-29 11:23 Wolverine 1\n",
      "length: 26 line: 2011-04-30 12:51 Muskox 2\n",
      "length: 23 line: 2011-04-30 21:30 Fox 5\n",
      "length: 24 line: 2011-05-01 00:26 Elk 12\n",
      "length: 26 line: 2011-05-02 03:32 Moose 14\n",
      "length: 25 line: 2011-05-02 00:25 Wolf 39\n",
      "length: 24 line: 2011-05-03 10:05 Owl 10\n",
      "length: 24 line: 2011-05-04 23:16 Owl 10\n",
      "length: 24 line: 2011-05-04 22:20 Fox 10\n",
      "length: 26 line: 2011-05-05 07:00 Moose 20\n",
      "length: 26 line: 2011-05-05 14:49 Muskox 7\n",
      "length: 30 line: 2011-05-05 02:28 Wolverine 22\n",
      "length: 27 line: 2011-05-05 18:56 Grizzly 1\n",
      "length: 25 line: 2011-05-06 09:54 Wolf 42\n",
      "length: 23 line: 2011-05-06 23:02 Owl 9\n",
      "length: 26 line: 2011-05-06 19:40 Moose 31\n",
      "length: 25 line: 2011-05-06 22:15 Moose 9\n",
      "length: 29 line: 2011-05-06 12:25 Wolverine 8\n",
      "length: 30 line: 2011-05-07 13:10 Ptarmigan 40\n",
      "length: 30 line: 2011-05-07 02:45 Ptarmigan 29\n",
      "length: 24 line: 2011-05-07 02:01 Owl 40\n",
      "length: 23 line: 2011-05-08 04:15 Elk 4\n",
      "length: 26 line: 2011-05-08 01:36 Moose 19\n",
      "length: 30 line: 2011-05-08 21:41 Ptarmigan 32\n",
      "length: 24 line: 2011-05-08 08:11 Elk 31\n",
      "length: 26 line: 2011-05-08 09:39 Moose 35\n",
      "length: 25 line: 2011-05-08 19:39 Wolf 29\n",
      "length: 26 line: 2011-05-08 10:38 Moose 11\n",
      "length: 24 line: 2011-05-09 09:08 Elk 30\n",
      "length: 28 line: 2011-05-09 06:07 Grizzly 14\n",
      "length: 24 line: 2011-05-10 11:32 Wolf 5\n",
      "length: 26 line: 2011-05-10 11:03 Moose 15\n",
      "length: 30 line: 2011-05-10 00:11 Wolverine 21\n",
      "length: 25 line: 2011-05-10 11:30 Moose 5\n",
      "length: 29 line: 2011-05-11 01:45 Ptarmigan 9\n",
      "length: 29 line: 2011-05-12 04:18 Wolverine 3\n",
      "length: 28 line: 2011-05-12 20:54 Grizzly 22\n",
      "length: 24 line: 2011-05-12 10:16 Owl 10\n",
      "length: 29 line: 2011-05-12 21:54 Wolverine 6\n",
      "length: 30 line: 2011-05-12 11:10 Ptarmigan 36\n",
      "length: 24 line: 2011-05-13 20:07 Elk 41\n",
      "length: 26 line: 2011-05-14 15:41 Moose 12\n",
      "length: 24 line: 2011-05-14 12:22 Fox 42\n",
      "length: 27 line: 2011-05-14 15:47 Muskox 19\n",
      "length: 30 line: 2011-05-14 08:12 Ptarmigan 13\n",
      "length: 25 line: 2011-05-15 02:33 Wolf 39\n",
      "length: 24 line: 2011-05-15 18:33 Owl 15\n",
      "length: 30 line: 2011-05-15 20:30 Ptarmigan 27\n",
      "length: 25 line: 2011-05-16 18:08 Wolf 34\n",
      "length: 25 line: 2011-05-16 23:35 Wolf 12\n",
      "length: 24 line: 2011-05-17 06:30 Fox 42\n",
      "length: 24 line: 2011-05-17 11:48 Elk 36\n",
      "length: 25 line: 2011-05-17 05:18 Wolf 31\n",
      "length: 25 line: 2011-05-18 09:58 Wolf 23\n",
      "length: 25 line: 2011-05-19 00:45 Moose 6\n",
      "length: 24 line: 2011-05-19 21:29 Wolf 8\n",
      "length: 24 line: 2011-05-19 20:43 Fox 33\n",
      "length: 24 line: 2011-05-20 10:48 Fox 29\n",
      "length: 30 line: 2011-05-20 06:11 Ptarmigan 17\n",
      "length: 23 line: 2011-05-20 19:50 Fox 1\n",
      "length: 30 line: 2011-05-20 12:30 Ptarmigan 16\n",
      "length: 27 line: 2011-05-21 08:52 Muskox 24\n",
      "length: 25 line: 2011-05-21 06:30 Wolf 26\n",
      "length: 25 line: 2011-05-22 15:21 Wolf 41\n",
      "length: 26 line: 2011-05-22 14:07 Moose 30\n",
      "length: 27 line: 2011-05-22 10:36 Muskox 37\n",
      "length: 28 line: 2011-05-22 16:24 Grizzly 21\n",
      "length: 28 line: 2011-05-23 16:58 Grizzly 19\n",
      "length: 28 line: 2011-05-23 02:31 Grizzly 17\n",
      "length: 24 line: 2011-05-24 21:36 Wolf 1\n",
      "length: 24 line: 2011-05-24 13:36 Fox 26\n",
      "length: 28 line: 2011-05-24 11:03 Grizzly 12\n",
      "length: 26 line: 2011-05-25 09:07 Moose 10\n",
      "length: 24 line: 2011-05-26 19:59 Fox 16\n",
      "length: 30 line: 2011-05-27 01:20 Ptarmigan 29\n",
      "length: 24 line: 2011-05-28 19:23 Owl 22\n",
      "length: 23 line: 2011-05-28 16:52 Fox 5\n",
      "length: 24 line: 2011-05-28 18:15 Fox 22\n",
      "length: 28 line: 2011-05-29 04:15 Grizzly 15\n",
      "length: 26 line: 2011-05-30 12:15 Moose 11\n",
      "length: 28 line: 2011-05-30 16:27 Grizzly 34\n",
      "length: 26 line: 2011-05-30 19:20 Moose 25\n",
      "length: 30 line: 2011-05-31 06:21 Wolverine 31\n",
      "length: 27 line: 2011-05-31 10:19 Muskox 28\n",
      "length: 23 line: 2011-06-01 22:42 Elk 3\n",
      "length: 28 line: 2011-06-01 11:05 Grizzly 14\n"
     ]
    }
   ],
   "source": [
    "f=open('big_animals.txt',\"r\")\n",
    "file=f.readlines()\n",
    "for i in file:\n",
    "    print(\"length:\",len(i),\"line:\",i.strip())\n",
    "f.close()"
   ]
  },
  {
   "cell_type": "markdown",
   "metadata": {},
   "source": [
    "7B. Read the file 'big_animals.txt' again and print each line where the number of animals sighted is greater than 10.  We'll won't output the lines with fewer than 10 animals."
   ]
  },
  {
   "cell_type": "code",
   "execution_count": 34,
   "metadata": {},
   "outputs": [
    {
     "name": "stdout",
     "output_type": "stream",
     "text": [
      "2011-04-22 15:30 Moose 37\n",
      "2011-04-23 12:16 Grizzly 25\n",
      "2011-04-24 22:19 Muskox 16\n",
      "2011-04-25 10:32 Muskox 11\n",
      "2011-04-25 08:10 Wolverine 14\n",
      "2011-04-26 22:28 Elk 22\n",
      "2011-04-28 22:18 Muskox 22\n",
      "2011-04-28 14:15 Elk 39\n",
      "2011-04-28 02:23 Grizzly 27\n",
      "2011-05-01 00:26 Elk 12\n",
      "2011-05-02 03:32 Moose 14\n",
      "2011-05-02 00:25 Wolf 39\n",
      "2011-05-05 07:00 Moose 20\n",
      "2011-05-05 02:28 Wolverine 22\n",
      "2011-05-06 09:54 Wolf 42\n",
      "2011-05-06 19:40 Moose 31\n",
      "2011-05-07 13:10 Ptarmigan 40\n",
      "2011-05-07 02:45 Ptarmigan 29\n",
      "2011-05-07 02:01 Owl 40\n",
      "2011-05-08 01:36 Moose 19\n",
      "2011-05-08 21:41 Ptarmigan 32\n",
      "2011-05-08 08:11 Elk 31\n",
      "2011-05-08 09:39 Moose 35\n",
      "2011-05-08 19:39 Wolf 29\n",
      "2011-05-08 10:38 Moose 11\n",
      "2011-05-09 09:08 Elk 30\n",
      "2011-05-09 06:07 Grizzly 14\n",
      "2011-05-10 11:03 Moose 15\n",
      "2011-05-10 00:11 Wolverine 21\n",
      "2011-05-12 20:54 Grizzly 22\n",
      "2011-05-12 11:10 Ptarmigan 36\n",
      "2011-05-13 20:07 Elk 41\n",
      "2011-05-14 15:41 Moose 12\n",
      "2011-05-14 12:22 Fox 42\n",
      "2011-05-14 15:47 Muskox 19\n",
      "2011-05-14 08:12 Ptarmigan 13\n",
      "2011-05-15 02:33 Wolf 39\n",
      "2011-05-15 18:33 Owl 15\n",
      "2011-05-15 20:30 Ptarmigan 27\n",
      "2011-05-16 18:08 Wolf 34\n",
      "2011-05-16 23:35 Wolf 12\n",
      "2011-05-17 06:30 Fox 42\n",
      "2011-05-17 11:48 Elk 36\n",
      "2011-05-17 05:18 Wolf 31\n",
      "2011-05-18 09:58 Wolf 23\n",
      "2011-05-19 20:43 Fox 33\n",
      "2011-05-20 10:48 Fox 29\n",
      "2011-05-20 06:11 Ptarmigan 17\n",
      "2011-05-20 12:30 Ptarmigan 16\n",
      "2011-05-21 08:52 Muskox 24\n",
      "2011-05-21 06:30 Wolf 26\n",
      "2011-05-22 15:21 Wolf 41\n",
      "2011-05-22 14:07 Moose 30\n",
      "2011-05-22 10:36 Muskox 37\n",
      "2011-05-22 16:24 Grizzly 21\n",
      "2011-05-23 16:58 Grizzly 19\n",
      "2011-05-23 02:31 Grizzly 17\n",
      "2011-05-24 13:36 Fox 26\n",
      "2011-05-24 11:03 Grizzly 12\n",
      "2011-05-26 19:59 Fox 16\n",
      "2011-05-27 01:20 Ptarmigan 29\n",
      "2011-05-28 19:23 Owl 22\n",
      "2011-05-28 18:15 Fox 22\n",
      "2011-05-29 04:15 Grizzly 15\n",
      "2011-05-30 12:15 Moose 11\n",
      "2011-05-30 16:27 Grizzly 34\n",
      "2011-05-30 19:20 Moose 25\n",
      "2011-05-31 06:21 Wolverine 31\n",
      "2011-05-31 10:19 Muskox 28\n",
      "2011-06-01 11:05 Grizzly 14\n"
     ]
    }
   ],
   "source": [
    "f=open('big_animals.txt',\"r\")\n",
    "file=f.readlines()\n",
    "for line in file:\n",
    "    line1=line.split()\n",
    "    if int(line1[-1])>10:\n",
    "        print(line.strip())\n",
    "f.close()"
   ]
  },
  {
   "cell_type": "markdown",
   "metadata": {},
   "source": [
    "7C. Read the file 'big_animals.txt' again and return a list of tuples."
   ]
  },
  {
   "cell_type": "code",
   "execution_count": 33,
   "metadata": {},
   "outputs": [],
   "source": [
    "f=open('big_animals.txt',\"r\")\n",
    "file=f.readlines()\n",
    "out=[]\n",
    "for line in file:\n",
    "    line1=line.split()\n",
    "    out.append(tuple(line1))\n",
    "f.close()"
   ]
  },
  {
   "cell_type": "markdown",
   "metadata": {},
   "source": [
    "7D. Turn the code for #7C into a function and use it on the files 'merida_animals.txt' and 'fergus_animals.txt'."
   ]
  },
  {
   "cell_type": "code",
   "execution_count": 38,
   "metadata": {},
   "outputs": [
    {
     "ename": "FileNotFoundError",
     "evalue": "[Errno 2] No such file or directory: 'merida_animals.txt'",
     "output_type": "error",
     "traceback": [
      "\u001b[0;31m---------------------------------------------------------------------------\u001b[0m",
      "\u001b[0;31mFileNotFoundError\u001b[0m                         Traceback (most recent call last)",
      "\u001b[0;32m<ipython-input-38-0cd2b55f1820>\u001b[0m in \u001b[0;36m<module>\u001b[0;34m\u001b[0m\n\u001b[1;32m      9\u001b[0m     \u001b[0;32mreturn\u001b[0m \u001b[0mout\u001b[0m\u001b[0;34m\u001b[0m\u001b[0m\n\u001b[1;32m     10\u001b[0m \u001b[0;34m\u001b[0m\u001b[0m\n\u001b[0;32m---> 11\u001b[0;31m \u001b[0mprint\u001b[0m\u001b[0;34m(\u001b[0m\u001b[0mFileToTuple\u001b[0m\u001b[0;34m(\u001b[0m\u001b[0;34m'merida_animals.txt'\u001b[0m\u001b[0;34m)\u001b[0m\u001b[0;34m)\u001b[0m\u001b[0;34m\u001b[0m\u001b[0m\n\u001b[0m\u001b[1;32m     12\u001b[0m \u001b[0mprint\u001b[0m\u001b[0;34m(\u001b[0m\u001b[0mFileToTuple\u001b[0m\u001b[0;34m(\u001b[0m\u001b[0;34m'fergus_animals.txt'\u001b[0m\u001b[0;34m)\u001b[0m\u001b[0;34m)\u001b[0m\u001b[0;34m\u001b[0m\u001b[0m\n",
      "\u001b[0;32m<ipython-input-38-0cd2b55f1820>\u001b[0m in \u001b[0;36mFileToTuple\u001b[0;34m(fileName)\u001b[0m\n\u001b[1;32m      1\u001b[0m \u001b[0;32mdef\u001b[0m \u001b[0mFileToTuple\u001b[0m\u001b[0;34m(\u001b[0m\u001b[0mfileName\u001b[0m\u001b[0;34m)\u001b[0m\u001b[0;34m:\u001b[0m\u001b[0;34m\u001b[0m\u001b[0m\n\u001b[0;32m----> 2\u001b[0;31m     \u001b[0mf\u001b[0m\u001b[0;34m=\u001b[0m\u001b[0mopen\u001b[0m\u001b[0;34m(\u001b[0m\u001b[0mfileName\u001b[0m\u001b[0;34m,\u001b[0m\u001b[0;34m\"r\"\u001b[0m\u001b[0;34m)\u001b[0m\u001b[0;34m\u001b[0m\u001b[0m\n\u001b[0m\u001b[1;32m      3\u001b[0m     \u001b[0mfile\u001b[0m\u001b[0;34m=\u001b[0m\u001b[0mf\u001b[0m\u001b[0;34m.\u001b[0m\u001b[0mreadlines\u001b[0m\u001b[0;34m(\u001b[0m\u001b[0;34m)\u001b[0m\u001b[0;34m\u001b[0m\u001b[0m\n\u001b[1;32m      4\u001b[0m     \u001b[0mout\u001b[0m\u001b[0;34m=\u001b[0m\u001b[0;34m[\u001b[0m\u001b[0;34m]\u001b[0m\u001b[0;34m\u001b[0m\u001b[0m\n\u001b[1;32m      5\u001b[0m     \u001b[0;32mfor\u001b[0m \u001b[0mline\u001b[0m \u001b[0;32min\u001b[0m \u001b[0mfile\u001b[0m\u001b[0;34m:\u001b[0m\u001b[0;34m\u001b[0m\u001b[0m\n",
      "\u001b[0;31mFileNotFoundError\u001b[0m: [Errno 2] No such file or directory: 'merida_animals.txt'"
     ]
    }
   ],
   "source": [
    "def FileToTuple(fileName):\n",
    "    f=open(fileName,\"r\")\n",
    "    file=f.readlines()\n",
    "    out=[]\n",
    "    for line in file:\n",
    "        line1=line.split()\n",
    "        out.append(tuple(line1))\n",
    "    f.close()\n",
    "    return out\n",
    "\n",
    "print(FileToTuple('merida_animals.txt'))\n",
    "print(FileToTuple('fergus_animals.txt'))"
   ]
  },
  {
   "cell_type": "markdown",
   "metadata": {},
   "source": [
    "# Exercise 8\n",
    "\n",
    "1.  Check your answer to Exercise 5 (the value of 42!) using the **math.gamma()** function."
   ]
  },
  {
   "cell_type": "code",
   "execution_count": 64,
   "metadata": {},
   "outputs": [
    {
     "data": {
      "text/plain": [
       "0.9999999999999998"
      ]
     },
     "execution_count": 64,
     "metadata": {},
     "output_type": "execute_result"
    }
   ],
   "source": [
    "import math\n",
    "n=1\n",
    "for i in range(1,43):\n",
    "    n*=i\n",
    "n/math.gamma(43)"
   ]
  }
 ],
 "metadata": {
  "kernelspec": {
   "display_name": "Python 3",
   "language": "python",
   "name": "python3"
  },
  "language_info": {
   "codemirror_mode": {
    "name": "ipython",
    "version": 3
   },
   "file_extension": ".py",
   "mimetype": "text/x-python",
   "name": "python",
   "nbconvert_exporter": "python",
   "pygments_lexer": "ipython3",
   "version": "3.6.5"
  }
 },
 "nbformat": 4,
 "nbformat_minor": 1
}
